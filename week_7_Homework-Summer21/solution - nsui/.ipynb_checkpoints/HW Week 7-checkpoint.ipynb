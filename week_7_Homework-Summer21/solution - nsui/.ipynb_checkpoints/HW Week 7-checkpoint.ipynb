{
 "cells": [
  {
   "cell_type": "markdown",
   "id": "3136ba53",
   "metadata": {},
   "source": [
    "# Question 15.2\n",
    "## Question 15.2.1\n",
    "### Answer:"
   ]
  },
  {
   "cell_type": "markdown",
   "id": "bfcc7325",
   "metadata": {},
   "source": [
    "First, read the data.\n",
    "We need to split the data in to food data and nutrition constraints."
   ]
  },
  {
   "cell_type": "code",
   "execution_count": 1,
   "id": "d253b3f7",
   "metadata": {},
   "outputs": [],
   "source": [
    "import pandas as pd\n",
    "from IPython.display import display\n",
    "\n",
    "data = pd.read_excel(\"C:\\Data\\week 7 data-summer\\data 15.2\\diet.xls\", sheet_name = \"Sheet1\")\n",
    "\n",
    "#Sperate the raw data in to food and maximum/minimum nutrition constraints\n",
    "food = data[0:64].copy()\n",
    "constraints = data[65:67].copy()  \\\n",
    "                         .iloc[:,2:].copy()  \\\n",
    "                         .rename(columns = {\"Serving Size\":\"Constraints\"})  \\\n",
    "                         .reset_index(drop=True)  "
   ]
  },
  {
   "cell_type": "code",
   "execution_count": 2,
   "id": "482679e7",
   "metadata": {},
   "outputs": [
    {
     "data": {
      "text/html": [
       "<div>\n",
       "<style scoped>\n",
       "    .dataframe tbody tr th:only-of-type {\n",
       "        vertical-align: middle;\n",
       "    }\n",
       "\n",
       "    .dataframe tbody tr th {\n",
       "        vertical-align: top;\n",
       "    }\n",
       "\n",
       "    .dataframe thead th {\n",
       "        text-align: right;\n",
       "    }\n",
       "</style>\n",
       "<table border=\"1\" class=\"dataframe\">\n",
       "  <thead>\n",
       "    <tr style=\"text-align: right;\">\n",
       "      <th></th>\n",
       "      <th>Foods</th>\n",
       "      <th>Price/ Serving</th>\n",
       "      <th>Serving Size</th>\n",
       "      <th>Calories</th>\n",
       "      <th>Cholesterol mg</th>\n",
       "      <th>Total_Fat g</th>\n",
       "      <th>Sodium mg</th>\n",
       "      <th>Carbohydrates g</th>\n",
       "      <th>Dietary_Fiber g</th>\n",
       "      <th>Protein g</th>\n",
       "      <th>Vit_A IU</th>\n",
       "      <th>Vit_C IU</th>\n",
       "      <th>Calcium mg</th>\n",
       "      <th>Iron mg</th>\n",
       "    </tr>\n",
       "  </thead>\n",
       "  <tbody>\n",
       "    <tr>\n",
       "      <th>0</th>\n",
       "      <td>Frozen Broccoli</td>\n",
       "      <td>0.16</td>\n",
       "      <td>10 Oz Pkg</td>\n",
       "      <td>73.8</td>\n",
       "      <td>0.0</td>\n",
       "      <td>0.8</td>\n",
       "      <td>68.2</td>\n",
       "      <td>13.6</td>\n",
       "      <td>8.5</td>\n",
       "      <td>8.0</td>\n",
       "      <td>5867.4</td>\n",
       "      <td>160.2</td>\n",
       "      <td>159.0</td>\n",
       "      <td>2.3</td>\n",
       "    </tr>\n",
       "    <tr>\n",
       "      <th>1</th>\n",
       "      <td>Carrots,Raw</td>\n",
       "      <td>0.07</td>\n",
       "      <td>1/2 Cup Shredded</td>\n",
       "      <td>23.7</td>\n",
       "      <td>0.0</td>\n",
       "      <td>0.1</td>\n",
       "      <td>19.2</td>\n",
       "      <td>5.6</td>\n",
       "      <td>1.6</td>\n",
       "      <td>0.6</td>\n",
       "      <td>15471.0</td>\n",
       "      <td>5.1</td>\n",
       "      <td>14.9</td>\n",
       "      <td>0.3</td>\n",
       "    </tr>\n",
       "    <tr>\n",
       "      <th>2</th>\n",
       "      <td>Celery, Raw</td>\n",
       "      <td>0.04</td>\n",
       "      <td>1 Stalk</td>\n",
       "      <td>6.4</td>\n",
       "      <td>0.0</td>\n",
       "      <td>0.1</td>\n",
       "      <td>34.8</td>\n",
       "      <td>1.5</td>\n",
       "      <td>0.7</td>\n",
       "      <td>0.3</td>\n",
       "      <td>53.6</td>\n",
       "      <td>2.8</td>\n",
       "      <td>16.0</td>\n",
       "      <td>0.2</td>\n",
       "    </tr>\n",
       "    <tr>\n",
       "      <th>3</th>\n",
       "      <td>Frozen Corn</td>\n",
       "      <td>0.18</td>\n",
       "      <td>1/2 Cup</td>\n",
       "      <td>72.2</td>\n",
       "      <td>0.0</td>\n",
       "      <td>0.6</td>\n",
       "      <td>2.5</td>\n",
       "      <td>17.1</td>\n",
       "      <td>2.0</td>\n",
       "      <td>2.5</td>\n",
       "      <td>106.6</td>\n",
       "      <td>5.2</td>\n",
       "      <td>3.3</td>\n",
       "      <td>0.3</td>\n",
       "    </tr>\n",
       "    <tr>\n",
       "      <th>4</th>\n",
       "      <td>Lettuce,Iceberg,Raw</td>\n",
       "      <td>0.02</td>\n",
       "      <td>1 Leaf</td>\n",
       "      <td>2.6</td>\n",
       "      <td>0.0</td>\n",
       "      <td>0.0</td>\n",
       "      <td>1.8</td>\n",
       "      <td>0.4</td>\n",
       "      <td>0.3</td>\n",
       "      <td>0.2</td>\n",
       "      <td>66.0</td>\n",
       "      <td>0.8</td>\n",
       "      <td>3.8</td>\n",
       "      <td>0.1</td>\n",
       "    </tr>\n",
       "  </tbody>\n",
       "</table>\n",
       "</div>"
      ],
      "text/plain": [
       "                 Foods  Price/ Serving      Serving Size  Calories  \\\n",
       "0      Frozen Broccoli            0.16         10 Oz Pkg      73.8   \n",
       "1          Carrots,Raw            0.07  1/2 Cup Shredded      23.7   \n",
       "2          Celery, Raw            0.04           1 Stalk       6.4   \n",
       "3          Frozen Corn            0.18           1/2 Cup      72.2   \n",
       "4  Lettuce,Iceberg,Raw            0.02            1 Leaf       2.6   \n",
       "\n",
       "   Cholesterol mg  Total_Fat g  Sodium mg  Carbohydrates g  Dietary_Fiber g  \\\n",
       "0             0.0          0.8       68.2             13.6              8.5   \n",
       "1             0.0          0.1       19.2              5.6              1.6   \n",
       "2             0.0          0.1       34.8              1.5              0.7   \n",
       "3             0.0          0.6        2.5             17.1              2.0   \n",
       "4             0.0          0.0        1.8              0.4              0.3   \n",
       "\n",
       "   Protein g  Vit_A IU  Vit_C IU  Calcium mg  Iron mg  \n",
       "0        8.0    5867.4     160.2       159.0      2.3  \n",
       "1        0.6   15471.0       5.1        14.9      0.3  \n",
       "2        0.3      53.6       2.8        16.0      0.2  \n",
       "3        2.5     106.6       5.2         3.3      0.3  \n",
       "4        0.2      66.0       0.8         3.8      0.1  "
      ]
     },
     "execution_count": 2,
     "metadata": {},
     "output_type": "execute_result"
    }
   ],
   "source": [
    "food.head()"
   ]
  },
  {
   "cell_type": "code",
   "execution_count": 3,
   "id": "29eb5768",
   "metadata": {},
   "outputs": [
    {
     "data": {
      "text/html": [
       "<div>\n",
       "<style scoped>\n",
       "    .dataframe tbody tr th:only-of-type {\n",
       "        vertical-align: middle;\n",
       "    }\n",
       "\n",
       "    .dataframe tbody tr th {\n",
       "        vertical-align: top;\n",
       "    }\n",
       "\n",
       "    .dataframe thead th {\n",
       "        text-align: right;\n",
       "    }\n",
       "</style>\n",
       "<table border=\"1\" class=\"dataframe\">\n",
       "  <thead>\n",
       "    <tr style=\"text-align: right;\">\n",
       "      <th></th>\n",
       "      <th>Constraints</th>\n",
       "      <th>Calories</th>\n",
       "      <th>Cholesterol mg</th>\n",
       "      <th>Total_Fat g</th>\n",
       "      <th>Sodium mg</th>\n",
       "      <th>Carbohydrates g</th>\n",
       "      <th>Dietary_Fiber g</th>\n",
       "      <th>Protein g</th>\n",
       "      <th>Vit_A IU</th>\n",
       "      <th>Vit_C IU</th>\n",
       "      <th>Calcium mg</th>\n",
       "      <th>Iron mg</th>\n",
       "    </tr>\n",
       "  </thead>\n",
       "  <tbody>\n",
       "    <tr>\n",
       "      <th>0</th>\n",
       "      <td>Minimum daily intake</td>\n",
       "      <td>1500.0</td>\n",
       "      <td>30.0</td>\n",
       "      <td>20.0</td>\n",
       "      <td>800.0</td>\n",
       "      <td>130.0</td>\n",
       "      <td>125.0</td>\n",
       "      <td>60.0</td>\n",
       "      <td>1000.0</td>\n",
       "      <td>400.0</td>\n",
       "      <td>700.0</td>\n",
       "      <td>10.0</td>\n",
       "    </tr>\n",
       "    <tr>\n",
       "      <th>1</th>\n",
       "      <td>Maximum daily intake</td>\n",
       "      <td>2500.0</td>\n",
       "      <td>240.0</td>\n",
       "      <td>70.0</td>\n",
       "      <td>2000.0</td>\n",
       "      <td>450.0</td>\n",
       "      <td>250.0</td>\n",
       "      <td>100.0</td>\n",
       "      <td>10000.0</td>\n",
       "      <td>5000.0</td>\n",
       "      <td>1500.0</td>\n",
       "      <td>40.0</td>\n",
       "    </tr>\n",
       "  </tbody>\n",
       "</table>\n",
       "</div>"
      ],
      "text/plain": [
       "            Constraints  Calories  Cholesterol mg  Total_Fat g  Sodium mg  \\\n",
       "0  Minimum daily intake    1500.0            30.0         20.0      800.0   \n",
       "1  Maximum daily intake    2500.0           240.0         70.0     2000.0   \n",
       "\n",
       "   Carbohydrates g  Dietary_Fiber g  Protein g  Vit_A IU  Vit_C IU  \\\n",
       "0            130.0            125.0       60.0    1000.0     400.0   \n",
       "1            450.0            250.0      100.0   10000.0    5000.0   \n",
       "\n",
       "   Calcium mg  Iron mg  \n",
       "0       700.0     10.0  \n",
       "1      1500.0     40.0  "
      ]
     },
     "execution_count": 3,
     "metadata": {},
     "output_type": "execute_result"
    }
   ],
   "source": [
    "constraints"
   ]
  },
  {
   "cell_type": "markdown",
   "id": "f11729f2",
   "metadata": {},
   "source": [
    "Next, we need to create a linear programming problem in PuLP. Since we want to minimize the total cost, parameter \"sense\" will be set as LpMinimize."
   ]
  },
  {
   "cell_type": "markdown",
   "id": "b11b3dfc",
   "metadata": {},
   "source": [
    "We need to create a list of the foods and set up the variables. In this problem, we want to figure how many servings of each type of food we want to add to the diet. (let's call this variable x)"
   ]
  },
  {
   "cell_type": "markdown",
   "id": "7c4a61bb",
   "metadata": {},
   "source": [
    "We will set up an dictionary which will contain the variable (desired number of servings) for each type of food. The lower bound of the variables will be set as 0."
   ]
  },
  {
   "cell_type": "code",
   "execution_count": 4,
   "id": "4d7c1c81",
   "metadata": {},
   "outputs": [
    {
     "name": "stderr",
     "output_type": "stream",
     "text": [
      "C:\\Users\\suiwe\\AppData\\Roaming\\Python\\Python39\\site-packages\\pulp\\pulp.py:1352: UserWarning: Spaces are not permitted in the name. Converted to '_'\n",
      "  warnings.warn(\"Spaces are not permitted in the name. Converted to '_'\")\n"
     ]
    }
   ],
   "source": [
    "from pulp import *\n",
    "\n",
    "prob = LpProblem(\"Diet Problem\", LpMinimize)\n",
    "\n",
    "#Create list of foods\n",
    "food_list = list(food[\"Foods\"])\n",
    "\n",
    "#set up the dictionary of variables x\n",
    "x = LpVariable.dicts(\"Quantity\", indices = food_list, lowBound = 0)"
   ]
  },
  {
   "cell_type": "markdown",
   "id": "789d0715",
   "metadata": {},
   "source": [
    "In the newxt step, we need to add the objective functions and the constraints to the model.\n",
    "Then we run the modle and solve for the optimal solution. The optimal solution is printed as below."
   ]
  },
  {
   "cell_type": "code",
   "execution_count": 5,
   "id": "fa07952b",
   "metadata": {},
   "outputs": [],
   "source": [
    "# Add objective: Minimize total cost of the diet\n",
    "prob += (lpSum([list(food[food[\"Foods\"]==i][\"Price/ Serving\"])[0] * x[i] for i in food_list]),\n",
    "         \"Total Cost\")\n",
    "\n",
    "# Add constraints to the model, so that the maximum and minimum nutrition requirements are satisfied\n",
    "for col in range(3, len(food.columns)):\n",
    "    column = food.columns[col]\n",
    "\n",
    "    min_requirement = constraints[column][0]\n",
    "    max_requirement = constraints[column][1]\n",
    "    \n",
    "    prob += (lpSum([list(food[food[\"Foods\"]==i][column])[0] * x[i] for i in food_list]) >= min_requirement,\n",
    "             \"{} Min Requirement\".format(column))\n",
    "    prob += (lpSum([list(food[food[\"Foods\"]==i][column])[0] * x[i] for i in food_list]) <= max_requirement,\n",
    "            \"{} Max Requirement\".format(column))"
   ]
  },
  {
   "cell_type": "code",
   "execution_count": 6,
   "id": "f8c1d22b",
   "metadata": {},
   "outputs": [
    {
     "name": "stdout",
     "output_type": "stream",
     "text": [
      "status: 1, Optimal\n",
      "objective: 4.337116797399999\n",
      "Quantity_Celery,_Raw: 52.64371\n",
      "Quantity_Frozen_Broccoli: 0.25960653\n",
      "Quantity_Lettuce,Iceberg,Raw: 63.988506\n",
      "Quantity_Oranges: 2.2929389\n",
      "Quantity_Poached_Eggs: 0.14184397\n",
      "Quantity_Popcorn,Air_Popped: 13.869322\n"
     ]
    }
   ],
   "source": [
    "#Solve the problem\n",
    "prob.solve()\n",
    "\n",
    "print(f\"status: {prob.status}, {LpStatus[prob.status]}\")\n",
    "print(f\"objective: {prob.objective.value()}\")\n",
    "\n",
    "# Print the number of servings for each food (>0) in the optimal solution\n",
    "for var in prob.variables():\n",
    "    if var.value() != 0:\n",
    "        print(f\"{var.name}: {var.value()}\")"
   ]
  },
  {
   "cell_type": "markdown",
   "id": "7a5d1b29",
   "metadata": {},
   "source": [
    "# Question 15.2\n",
    "## Question 15.2.2\n",
    "### Answer:\n",
    "\n",
    "In this part, we are going to add more constraints to the model. We will recreate the same model as last question. We are also going to introduce a binary variable y for each food. If y=1, it means a food is selected into our diet. If a food is not selected, y would equal to zero."
   ]
  },
  {
   "cell_type": "code",
   "execution_count": 7,
   "id": "a65c3d36",
   "metadata": {},
   "outputs": [],
   "source": [
    "#create a new model\n",
    "prob2 = LpProblem(\"Diet Problem Part 2\", LpMinimize)\n",
    "\n",
    "# Add objective: Minimize total cost of the diet\n",
    "prob2 += (lpSum([list(food[food[\"Foods\"]==i][\"Price/ Serving\"])[0] * x[i] for i in food_list]),\n",
    "         \"Total Cost\")\n",
    "\n",
    "#set up the dictionary of variables y\n",
    "y = LpVariable.dicts(\"Selected\", indices = food_list, cat = \"Binary\", lowBound = 0)"
   ]
  },
  {
   "cell_type": "markdown",
   "id": "04fae80c",
   "metadata": {},
   "source": [
    "The Constraints of the model will be mostly the same as last question. "
   ]
  },
  {
   "cell_type": "markdown",
   "id": "18ad6e5b",
   "metadata": {},
   "source": [
    "Let's first load the same constraints as last question into the model."
   ]
  },
  {
   "cell_type": "code",
   "execution_count": 8,
   "id": "aa4b0529",
   "metadata": {},
   "outputs": [],
   "source": [
    "# Add constraints to the model, so that the maximum and minimum nutrition requirements are satisfied\n",
    "for col in range(3, len(food.columns)):\n",
    "    column = food.columns[col]\n",
    "\n",
    "    min_requirement = constraints[column][0]\n",
    "    max_requirement = constraints[column][1]\n",
    "    \n",
    "    prob2 += (lpSum([list(food[food[\"Foods\"]==i][column])[0] * x[i] for i in food_list]) >= min_requirement,\n",
    "             \"{} Min Requirement\".format(column))\n",
    "    prob2 += (lpSum([list(food[food[\"Foods\"]==i][column])[0] * x[i] for i in food_list]) <= max_requirement,\n",
    "            \"{} Max Requirement\".format(column))"
   ]
  },
  {
   "cell_type": "markdown",
   "id": "68a49aaa",
   "metadata": {},
   "source": [
    "To make sure at least the number of serving is equal or larger than 1/10 for each type of food choosen, two new constraint is needed: "
   ]
  },
  {
   "cell_type": "markdown",
   "id": "03575d11",
   "metadata": {},
   "source": [
    "    1. for each type of food choosen, x >= 0.1 *y"
   ]
  },
  {
   "cell_type": "markdown",
   "id": "2f95bea2",
   "metadata": {},
   "source": [
    "    2. for each type of food choosen, x <= 100,000,000 * y (make sure the fodd is not selected when y = 0)"
   ]
  },
  {
   "cell_type": "code",
   "execution_count": 9,
   "id": "31347950",
   "metadata": {},
   "outputs": [],
   "source": [
    "# number of serving >= 0.1 for each type of choosen food\n",
    "for i in food_list:\n",
    "    prob2 += (x[i] >= y[i] * 0.1, \"{} at least 0.1 serving Requirement\".format(i))\n",
    "    prob2 += (x[i] <= y[i] * 100000000, \"{} is selected Requirement\".format(i))"
   ]
  },
  {
   "cell_type": "markdown",
   "id": "81ef86e0",
   "metadata": {},
   "source": [
    "Then, we add another constraint to make sure celery and frozen broccoli are not selected at the same time."
   ]
  },
  {
   "cell_type": "code",
   "execution_count": 10,
   "id": "b5b5deee",
   "metadata": {},
   "outputs": [],
   "source": [
    "prob2 += (y[\"Celery, Raw\"] + y['Frozen Broccoli'] <= 1, \"Celery and Broccoli Requirement\")"
   ]
  },
  {
   "cell_type": "markdown",
   "id": "01939993",
   "metadata": {},
   "source": [
    "Last, we need to make sure at least 3 kinds of meat/poultry/fish/eggs are selected in the diet. Here are the meat/poultry/fish/eggs we can find in the food list:"
   ]
  },
  {
   "cell_type": "markdown",
   "id": "5b6e2e86",
   "metadata": {},
   "source": [
    "Roasted Chicken; Poached Eggs; Scrambled Eggs; Bologna,Turkey; Frankfurter, Beef; Ham,Sliced,Extralean; Kielbasa,Prk; Hamburger W/Toppings; Hotdog, Plain; Pork; Sardines in Oil; White Tuna in Water"
   ]
  },
  {
   "cell_type": "code",
   "execution_count": 11,
   "id": "4f709ad2",
   "metadata": {},
   "outputs": [],
   "source": [
    "meat_list = [\"Roasted Chicken\", \"Poached Eggs\", \"Scrambled Eggs\",\\\n",
    "             \"Bologna,Turkey\", \"Frankfurter, Beef\", \"Ham,Sliced,Extralean\",\\\n",
    "             \"Kielbasa,Prk\", \"Hamburger W/Toppings\", \"Hotdog, Plain\", \"Pork\", \"Sardines in Oil\", \"White Tuna in Water\"]\n",
    "prob2 += (lpSum(y[i] for i in meat_list) >= 3, \"Meat Requirement\")"
   ]
  },
  {
   "cell_type": "markdown",
   "id": "d09ac83f",
   "metadata": {},
   "source": [
    "Here's the optimal solution we find and the number of servings of each type of the food selected."
   ]
  },
  {
   "cell_type": "code",
   "execution_count": 12,
   "id": "1095e7b6",
   "metadata": {},
   "outputs": [
    {
     "name": "stdout",
     "output_type": "stream",
     "text": [
      "status: 1, Optimal\n",
      "objective: 4.512543427000001\n",
      "Quantity_Celery,_Raw: 42.399358\n",
      "Quantity_Kielbasa,Prk: 0.1\n",
      "Quantity_Lettuce,Iceberg,Raw: 82.802586\n",
      "Quantity_Oranges: 3.0771841\n",
      "Quantity_Peanut_Butter: 1.9429716\n",
      "Quantity_Poached_Eggs: 0.1\n",
      "Quantity_Popcorn,Air_Popped: 13.223294\n",
      "Quantity_Scrambled_Eggs: 0.1\n",
      "Selected_Celery,_Raw: 1.0\n",
      "Selected_Kielbasa,Prk: 1.0\n",
      "Selected_Lettuce,Iceberg,Raw: 1.0\n",
      "Selected_Oranges: 1.0\n",
      "Selected_Peanut_Butter: 1.0\n",
      "Selected_Poached_Eggs: 1.0\n",
      "Selected_Popcorn,Air_Popped: 1.0\n",
      "Selected_Scrambled_Eggs: 1.0\n"
     ]
    }
   ],
   "source": [
    "#Solve the problem\n",
    "prob2.solve()\n",
    "\n",
    "print(f\"status: {prob2.status}, {LpStatus[prob2.status]}\")\n",
    "print(f\"objective: {prob2.objective.value()}\")\n",
    "\n",
    "# Print the number of servings for each food (>0) in the optimal solution\n",
    "for var in prob2.variables():\n",
    "    if var.value() != 0:\n",
    "        print(f\"{var.name}: {var.value()}\")"
   ]
  }
 ],
 "metadata": {
  "kernelspec": {
   "display_name": "Python 3 (ipykernel)",
   "language": "python",
   "name": "python3"
  },
  "language_info": {
   "codemirror_mode": {
    "name": "ipython",
    "version": 3
   },
   "file_extension": ".py",
   "mimetype": "text/x-python",
   "name": "python",
   "nbconvert_exporter": "python",
   "pygments_lexer": "ipython3",
   "version": "3.9.12"
  }
 },
 "nbformat": 4,
 "nbformat_minor": 5
}
